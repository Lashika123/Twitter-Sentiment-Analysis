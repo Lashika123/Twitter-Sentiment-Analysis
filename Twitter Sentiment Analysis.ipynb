{
 "cells": [
  {
   "cell_type": "code",
   "execution_count": 35,
   "id": "819dfdd9",
   "metadata": {},
   "outputs": [],
   "source": [
    "# Import necessary libraries\n",
    "import pandas as pd\n",
    "import numpy as np\n",
    "import nltk\n",
    "import re\n",
    "from nltk.corpus import stopwords\n",
    "from sklearn.model_selection import train_test_split\n",
    "from sklearn.preprocessing import LabelEncoder\n",
    "from tensorflow.keras.preprocessing.text import Tokenizer\n",
    "from tensorflow.keras.preprocessing.sequence import pad_sequences\n",
    "from tensorflow.keras.models import Sequential\n",
    "from tensorflow.keras.layers import Embedding, LSTM, Dense, Dropout\n",
    "from sklearn.metrics import classification_report"
   ]
  },
  {
   "cell_type": "code",
   "execution_count": 37,
   "id": "367a51a2",
   "metadata": {},
   "outputs": [
    {
     "data": {
      "text/html": [
       "<div>\n",
       "<style scoped>\n",
       "    .dataframe tbody tr th:only-of-type {\n",
       "        vertical-align: middle;\n",
       "    }\n",
       "\n",
       "    .dataframe tbody tr th {\n",
       "        vertical-align: top;\n",
       "    }\n",
       "\n",
       "    .dataframe thead th {\n",
       "        text-align: right;\n",
       "    }\n",
       "</style>\n",
       "<table border=\"1\" class=\"dataframe\">\n",
       "  <thead>\n",
       "    <tr style=\"text-align: right;\">\n",
       "      <th></th>\n",
       "      <th>clean_text</th>\n",
       "      <th>category</th>\n",
       "    </tr>\n",
       "  </thead>\n",
       "  <tbody>\n",
       "    <tr>\n",
       "      <th>0</th>\n",
       "      <td>when modi promised “minimum government maximum...</td>\n",
       "      <td>-1.0</td>\n",
       "    </tr>\n",
       "    <tr>\n",
       "      <th>1</th>\n",
       "      <td>talk all the nonsense and continue all the dra...</td>\n",
       "      <td>0.0</td>\n",
       "    </tr>\n",
       "    <tr>\n",
       "      <th>2</th>\n",
       "      <td>what did just say vote for modi  welcome bjp t...</td>\n",
       "      <td>1.0</td>\n",
       "    </tr>\n",
       "    <tr>\n",
       "      <th>3</th>\n",
       "      <td>asking his supporters prefix chowkidar their n...</td>\n",
       "      <td>1.0</td>\n",
       "    </tr>\n",
       "    <tr>\n",
       "      <th>4</th>\n",
       "      <td>answer who among these the most powerful world...</td>\n",
       "      <td>1.0</td>\n",
       "    </tr>\n",
       "  </tbody>\n",
       "</table>\n",
       "</div>"
      ],
      "text/plain": [
       "                                          clean_text  category\n",
       "0  when modi promised “minimum government maximum...      -1.0\n",
       "1  talk all the nonsense and continue all the dra...       0.0\n",
       "2  what did just say vote for modi  welcome bjp t...       1.0\n",
       "3  asking his supporters prefix chowkidar their n...       1.0\n",
       "4  answer who among these the most powerful world...       1.0"
      ]
     },
     "execution_count": 37,
     "metadata": {},
     "output_type": "execute_result"
    }
   ],
   "source": [
    " # Read the Data from the Given Excel File\n",
    "data = pd.read_csv('Twitter_Data.csv')\n",
    "data.head()"
   ]
  },
  {
   "cell_type": "code",
   "execution_count": 38,
   "id": "709620b2",
   "metadata": {},
   "outputs": [],
   "source": [
    "#  Change the Dependent Variable to Categorical\n",
    "data['category'] = data['category'].map({-1: 'Negative', 0: 'Neutral', 1: 'Positive'})\n"
   ]
  },
  {
   "cell_type": "code",
   "execution_count": 39,
   "id": "a08f0fcf",
   "metadata": {},
   "outputs": [],
   "source": [
    "#  Missing Value Analysis and Drop Null Values\n",
    "data.dropna(inplace=True)"
   ]
  },
  {
   "cell_type": "code",
   "execution_count": 42,
   "id": "4cbaa99c",
   "metadata": {},
   "outputs": [],
   "source": [
    "#Text cleaning\n",
    "def clean_text(text):\n",
    "    text = text.lower()\n",
    "    text = ''.join([c for c in text if c.isalnum() or c.isspace()])\n",
    "    return text\n",
    "\n",
    "\n",
    "data['clean_text'] = data['clean_text'].apply(clean_text)\n",
    "\n"
   ]
  },
  {
   "cell_type": "code",
   "execution_count": 43,
   "id": "8889ec96",
   "metadata": {},
   "outputs": [],
   "source": [
    "#  Create a New Column for Sentence Length\n",
    "data['sentence_length'] = data['clean_text'].apply(lambda x: len(x.split()))"
   ]
  },
  {
   "cell_type": "code",
   "execution_count": 44,
   "id": "99bd1135",
   "metadata": {},
   "outputs": [],
   "source": [
    "#  Split Data into Dependent(X) and Independent(y) Dataframe\n",
    "X = data['clean_text']\n",
    "y = data['category']"
   ]
  },
  {
   "cell_type": "code",
   "execution_count": 45,
   "id": "63497ad1",
   "metadata": {},
   "outputs": [],
   "source": [
    "#  Text Preprocessing (Tokenization and Padding)\n",
    "max_words = 10000  \n",
    "tokenizer = Tokenizer(num_words=max_words, oov_token=\"<OOV>\")\n",
    "tokenizer.fit_on_texts(X)\n",
    "X_sequences = tokenizer.texts_to_sequences(X)\n",
    "X_padded = pad_sequences(X_sequences)"
   ]
  },
  {
   "cell_type": "code",
   "execution_count": 46,
   "id": "045eef8f",
   "metadata": {},
   "outputs": [],
   "source": [
    "#  Encode the Dependent Variable\n",
    "label_encoder = LabelEncoder()\n",
    "y_encoded = label_encoder.fit_transform(y)"
   ]
  },
  {
   "cell_type": "code",
   "execution_count": 47,
   "id": "e8c1f42d",
   "metadata": {},
   "outputs": [],
   "source": [
    "# Step 9: Split the Data into Training and Testing Sets\n",
    "X_train, X_test, y_train, y_test = train_test_split(X_padded, y_encoded, test_size=0.2, random_state=42)"
   ]
  },
  {
   "cell_type": "code",
   "execution_count": 48,
   "id": "0ec4fb57",
   "metadata": {},
   "outputs": [],
   "source": [
    "#  Build and Compile the LSTM Model\n",
    "model = Sequential()\n",
    "model.add(Embedding(input_dim=max_words, output_dim=128, input_length=X_padded.shape[1]))\n",
    "model.add(LSTM(128, dropout=0.2, recurrent_dropout=0.2))\n",
    "model.add(Dense(3, activation='softmax'))  # Three categories: Negative, Neutral, Positive\n",
    "model.compile(loss='sparse_categorical_crossentropy', optimizer='adam', metrics=['accuracy'])"
   ]
  },
  {
   "cell_type": "code",
   "execution_count": 49,
   "id": "6182f961",
   "metadata": {},
   "outputs": [
    {
     "name": "stdout",
     "output_type": "stream",
     "text": [
      "Epoch 1/5\n",
      "2038/2038 [==============================] - 556s 270ms/step - loss: 0.2696 - accuracy: 0.9055 - val_loss: 0.1374 - val_accuracy: 0.9608\n",
      "Epoch 2/5\n",
      "2038/2038 [==============================] - 491s 241ms/step - loss: 0.1088 - accuracy: 0.9688 - val_loss: 0.1023 - val_accuracy: 0.9710\n",
      "Epoch 3/5\n",
      "2038/2038 [==============================] - 460s 226ms/step - loss: 0.0838 - accuracy: 0.9757 - val_loss: 0.0986 - val_accuracy: 0.9721\n",
      "Epoch 4/5\n",
      "2038/2038 [==============================] - 548s 269ms/step - loss: 0.0669 - accuracy: 0.9805 - val_loss: 0.1013 - val_accuracy: 0.9732\n",
      "Epoch 5/5\n",
      "2038/2038 [==============================] - 469s 230ms/step - loss: 0.0510 - accuracy: 0.9849 - val_loss: 0.1112 - val_accuracy: 0.9705\n"
     ]
    },
    {
     "data": {
      "text/plain": [
       "<keras.src.callbacks.History at 0x23e0c936700>"
      ]
     },
     "execution_count": 49,
     "metadata": {},
     "output_type": "execute_result"
    }
   ],
   "source": [
    "#  Train the Model\n",
    "model.fit(X_train, y_train, epochs=5, batch_size=64, validation_data=(X_test, y_test))"
   ]
  },
  {
   "cell_type": "code",
   "execution_count": 50,
   "id": "fdf2ed7c",
   "metadata": {},
   "outputs": [
    {
     "name": "stdout",
     "output_type": "stream",
     "text": [
      "1019/1019 [==============================] - 20s 19ms/step\n"
     ]
    }
   ],
   "source": [
    "# Normalize Predictions\n",
    "y_pred = model.predict(X_test)\n",
    "y_pred_normalized = np.argmax(y_pred, axis=1)"
   ]
  },
  {
   "cell_type": "code",
   "execution_count": 51,
   "id": "1e185ed8",
   "metadata": {},
   "outputs": [
    {
     "name": "stdout",
     "output_type": "stream",
     "text": [
      "Accuracy: 0.97\n"
     ]
    }
   ],
   "source": [
    "#  Measure Performance Metrics and Accuracy\n",
    "accuracy = (y_pred_normalized == y_test).mean()\n",
    "print(f\"Accuracy: {accuracy:.2f}\")\n"
   ]
  },
  {
   "cell_type": "code",
   "execution_count": 52,
   "id": "3e691444",
   "metadata": {},
   "outputs": [
    {
     "name": "stdout",
     "output_type": "stream",
     "text": [
      "              precision    recall  f1-score   support\n",
      "\n",
      "    Negative       0.94      0.95      0.95      7152\n",
      "     Neutral       0.98      0.98      0.98     11067\n",
      "    Positive       0.98      0.97      0.97     14375\n",
      "\n",
      "    accuracy                           0.97     32594\n",
      "   macro avg       0.97      0.97      0.97     32594\n",
      "weighted avg       0.97      0.97      0.97     32594\n",
      "\n"
     ]
    }
   ],
   "source": [
    "#  Print Classification Report\n",
    "target_names = label_encoder.classes_\n",
    "print(classification_report(y_test, y_pred_normalized, target_names=target_names))"
   ]
  },
  {
   "cell_type": "code",
   "execution_count": null,
   "id": "c167274e",
   "metadata": {},
   "outputs": [],
   "source": []
  }
 ],
 "metadata": {
  "kernelspec": {
   "display_name": "Python 3 (ipykernel)",
   "language": "python",
   "name": "python3"
  },
  "language_info": {
   "codemirror_mode": {
    "name": "ipython",
    "version": 3
   },
   "file_extension": ".py",
   "mimetype": "text/x-python",
   "name": "python",
   "nbconvert_exporter": "python",
   "pygments_lexer": "ipython3",
   "version": "3.9.13"
  }
 },
 "nbformat": 4,
 "nbformat_minor": 5
}
